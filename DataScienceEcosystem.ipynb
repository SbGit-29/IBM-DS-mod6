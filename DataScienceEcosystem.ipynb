{
 "cells": [
  {
   "cell_type": "markdown",
   "metadata": {},
   "source": [
    "<center>\n",
    "    <img src=\"https://cf-courses-data.s3.us.cloud-object-storage.appdomain.cloud/IBMDeveloperSkillsNetwork-DS0105EN-SkillsNetwork/labs/Module2/images/SN_web_lightmode.png\" width=\"300\" alt=\"cognitiveclass.ai logo\">\n",
    "</center>\n"
   ]
  },
  {
   "cell_type": "markdown",
   "metadata": {},
   "source": [
    "# Hands-on Lab: Create your Jupyter Notebook\n"
   ]
  },
  {
   "cell_type": "markdown",
   "metadata": {},
   "source": [
    "#### Add your code below following the instructions given in the course\n"
   ]
  },
  {
   "cell_type": "code",
   "execution_count": null,
   "metadata": {
    "jupyter": {
     "source_hidden": true
    }
   },
   "outputs": [],
   "source": [
    "# Final Assignment Instructions: Create and Share Your Jupyter Notebook\n",
    "# Create a Jupyter Notebook\n",
    "# Insert code and markdown cells\n",
    "# Share your notebook through GitHub\n",
    "\n",
    "# Instructions\n",
    "# Note - Screenshots\n",
    "# Throughout this lab, you will be prompted to take screenshots and save them on your device. \n",
    "# You will need these screenshots to upload them as your submission for peer review at the end of this course. \n",
    "# You can use various free screengrabbing tools or your operating system's shortcut keys to do this \n",
    "# (for example, Alt+PrintScreen in Windows and Shift+Command+3 for Mac).\n",
    "\n",
    "# Note 1 : Images can be saved with either the .jpg or .png extension.\n",
    "# Note 2: It's recommended to take a screenshot covering the entire content, from the question header to the final output. For markdown cells, capturing only the output is sufficient, there's no need to include the code itself.\n",
    "\n",
    "# Exercise 1: Create a Jupyter Notebook\n",
    "# Create a new Jupyter notebook called DataScienceEcosystem.ipynb\n",
    "\n",
    "# Note: The next item in the course will launch JupyterLite with an empty notebook \n",
    "# with this name that you can use to complete rest of the Exercises. \n",
    "# You can also use any other Jupyter notebook environment (e.g. Anaconda) that you prefer to complete the assignment.\n",
    "\n",
    "\n",
    "# Exercise 2: Create markdown cell with title of the notebook\n",
    "# Create a markdown cell with the title Data Science Tools and Ecosystem using H1 style heading.\n",
    "# Take a screenshot of the markdown cell and name it as 2-title.png\n",
    "\n",
    "\n",
    "# Exercise 3 - Create a markdown cell for an introduction\n",
    "# Write an introductory sentence about the notebook such as the follows:\n",
    "# In this notebook, Data Science Tools and Ecosystem are summarized.\n",
    "# Take a screenshot of the markdown cell and name it as 3-intro.png\n",
    "\n",
    "\n",
    "# Exercise 4 - Create a markdown cell to list data science languages\n",
    "# Start the cell with an overview line such as:\n",
    "# Some of the popular languages that Data Scientists use are:\n",
    "# Then create an ordered list (i.e. numbered) listing 3 (or more) commonly used languages for data science.\n",
    "# Take a screenshot of the markdown cell and name it as 4-dslanguages.png\n",
    "\n",
    "\n",
    "# Exercise 5 - Create a markdown cell to list data science libraries\n",
    "# Add an overview line to the cell like:\n",
    "# Some of the commonly used libraries used by Data Scientists include:\n",
    "# Below this line add an ordered list listing 3 (or more) commonly used libraries in data science.\n",
    "# Take a screenshot of the markdown cell and name it as 5-dslibraries.png\n",
    "\n",
    "\n",
    "# Exercise 6 - Create a markdown cell with a table of Data Science tools\n",
    "# Create a single column table in this cell with the first row containing the header Data Science Tools. The subsequent three rows in the table should indicate three development environment open source tools used in data science.\n",
    "# Take a screenshot of the markdown cell and name it as 6-dstools.png\n",
    "# Hint: Refer to Lab: Using Markdowns in Jupyter Notebooks to create a table.\n",
    "\n",
    "\n",
    "# Exercise 7 - Create a markdown cell introducing arithmetic expression examples\n",
    "# Add a line in this cell with H3 style heading with text like:\n",
    "# Below are a few examples of evaluating arithmetic expressions in Python.\n",
    "# Take a screenshot of the markdown cell and name it as 7-introarithmetic.png\n",
    "\n",
    "\n",
    "# Exercise 8 - Create a code cell to multiply and add numbers\n",
    "# In this code cell evaluate the expression (3*4)+5.\n",
    "# Insert a comment line before the expression to explain the operation e.g.  This a simple arithmetic expression to mutiply then add integers.\n",
    "# Then execute the cell to ensure the expression returns the expected output of 17.\n",
    "# Take a screenshot of the code cell with output and name it as 8-multiplyandaddintegers.png\n",
    "\n",
    "\n",
    "# Exercise 9 - Create a code cell to convert minutes to hours\n",
    "# In this code cell write an expression that converts 200 minutes into hours.\n",
    "# Insert a comment line before the expression to explain the operation e.g.  This will convert 200 minutes to hours by diving by 60.\n",
    "# Run the cell to evaluate the expression.\n",
    "# Take a screenshot of the code cell with output and name it as 9-hourstominutes.png\n",
    "\n",
    "\n",
    "# Exercise 10 - Insert a markdown cell to list Objectives\n",
    "# Below the introduction cell created in Exercise 3, insert a new markdown cell to list the objectives that this notebook covered (i.e. some of the key takeaways from the course). In this new cell start with an introductory line titled: Objectives: in bold font. Then using an unordered list (bullets) indicate 3 to 5 items covered in this notebook, such as List popular languages for Data Science.\n",
    "# Take a screenshot of the markdown cell and name it as 10-objectives.png\n",
    "\n",
    "\n",
    "# Exercise 11 - Create a markdown cell to indicate the Author's name\n",
    "# In this markdown cell markdown cell include the following text Author in H2 style heading. Include your name as regular text below the word Author.\n",
    "# Take a screenshot of the markdown cell and name it as 11-authordetails.png\n",
    "# Note: Save and download the notebook.\n",
    "\n",
    "\n",
    "# Exercise 12 - Share your notebook through GitHub\n",
    "# Upload your notebook to a public respository on GitHub.\n",
    "# Note : Please keep the GitHub repo link of the notebook handy.\n",
    "# You will need to submit this link as a part of the assignment evaluation.\n",
    "# Hint: Refer to Lab: Working with files in Jupyter Notebooks to download the notebook from SN Labs.\n",
    "\n",
    "\n",
    "# Exercise 13 -Take a screenshot of the first page of the notebook and save it as 1-notebook.png\n",
    "# Refer to Hands-on Lab: Getting Started with GitHub to upload the downloaded notebook to GitHub.\n",
    "\n"
   ]
  },
  {
   "cell_type": "code",
   "execution_count": null,
   "metadata": {},
   "outputs": [],
   "source": []
  },
  {
   "cell_type": "code",
   "execution_count": null,
   "metadata": {},
   "outputs": [],
   "source": [
    "# Exercise 1: Create a Jupyter Notebook\n",
    "# Create a new Jupyter notebook called DataScienceEcosystem.ipynb\n",
    "# Note: The next item in the course will launch JupyterLite with an empty notebook \n",
    "# with this name that you can use to complete rest of the Exercises. \n",
    "# You can also use any other Jupyter notebook environment (e.g. Anaconda) that you prefer to complete the assignment.\n",
    "\n",
    "# NOTEBOOK CREATED\n"
   ]
  },
  {
   "cell_type": "markdown",
   "metadata": {},
   "source": [
    "#### NOTEBOOK CREATED as DataScienceEcosystem.ipynb"
   ]
  },
  {
   "cell_type": "code",
   "execution_count": null,
   "metadata": {},
   "outputs": [],
   "source": []
  },
  {
   "cell_type": "code",
   "execution_count": null,
   "metadata": {},
   "outputs": [],
   "source": [
    "# Exercise 2: Create markdown cell with title of the notebook\n",
    "# Create a markdown cell with the title Data Science Tools and Ecosystem using H1 style heading.\n",
    "# Take a screenshot of the markdown cell and name it as 2-title.png\n"
   ]
  },
  {
   "cell_type": "markdown",
   "metadata": {},
   "source": [
    "# Data Science Tools and Ecosystem "
   ]
  },
  {
   "cell_type": "code",
   "execution_count": null,
   "metadata": {},
   "outputs": [],
   "source": []
  },
  {
   "cell_type": "code",
   "execution_count": null,
   "metadata": {},
   "outputs": [],
   "source": [
    "# Exercise 3 - Create a markdown cell for an introduction\n",
    "# Write an introductory sentence about the notebook such as the follows:\n",
    "# In this notebook, Data Science Tools and Ecosystem are summarized.\n",
    "# Take a screenshot of the markdown cell and name it as 3-intro.png"
   ]
  },
  {
   "cell_type": "markdown",
   "metadata": {},
   "source": [
    "This is assignment notebook about Data Science Tools and Ecosystem"
   ]
  },
  {
   "cell_type": "code",
   "execution_count": null,
   "metadata": {},
   "outputs": [],
   "source": []
  },
  {
   "cell_type": "code",
   "execution_count": null,
   "metadata": {},
   "outputs": [],
   "source": [
    "# Exercise 4 - Create a markdown cell to list data science languages\n",
    "# Start the cell with an overview line such as:\n",
    "# Some of the popular languages that Data Scientists use are:\n",
    "# Then create an ordered list (i.e. numbered) listing 3 (or more) commonly used languages for data science.\n",
    "# Take a screenshot of the markdown cell and name it as 4-dslanguages.png"
   ]
  },
  {
   "cell_type": "markdown",
   "metadata": {},
   "source": [
    "Some of the popular languages that Data Scientists use are:\n",
    "1. Python\n",
    "2. R\n",
    "3. Java\n",
    "4. Scala\n",
    "5. Julia"
   ]
  },
  {
   "cell_type": "code",
   "execution_count": null,
   "metadata": {},
   "outputs": [],
   "source": []
  },
  {
   "cell_type": "code",
   "execution_count": null,
   "metadata": {},
   "outputs": [],
   "source": [
    "# Exercise 5 - Create a markdown cell to list data science libraries\n",
    "# Add an overview line to the cell like:\n",
    "# Some of the commonly used libraries used by Data Scientists include:\n",
    "# Below this line add an ordered list listing 3 (or more) commonly used libraries in data science.\n",
    "# Take a screenshot of the markdown cell and name it as 5-dslibraries.png"
   ]
  },
  {
   "cell_type": "markdown",
   "metadata": {},
   "source": [
    "Some of the commonly used libraries used by Data Scientists include:\n",
    "1.  Pandas\n",
    "2.  Numpy\n",
    "3.  Matplotlib\n",
    "4.  Seaborn\n",
    "5.  Scipy\n",
    "6.  Scikit-Learn\n",
    "7.  TensorFlow\n"
   ]
  },
  {
   "cell_type": "code",
   "execution_count": null,
   "metadata": {},
   "outputs": [],
   "source": []
  },
  {
   "cell_type": "code",
   "execution_count": null,
   "metadata": {},
   "outputs": [],
   "source": [
    "# Exercise 6 - Create a markdown cell with a table of Data Science tools\n",
    "# Create a single column table in this cell with the first row containing the header Data Science Tools. \n",
    "# The subsequent three rows in the table should indicate three development environment open source tools used in data science.\n",
    "# Take a screenshot of the markdown cell and name it as 6-dstools.png\n",
    "# Hint: Refer to Lab: Using Markdowns in Jupyter Notebooks to create a table."
   ]
  },
  {
   "cell_type": "markdown",
   "metadata": {},
   "source": [
    "| Data Science Tools |\n",
    "|:--------:|\n",
    "|  Python  |\n",
    "|  VS Code  |\n",
    "|  RStudio   |\n",
    "|  Pycharm  |"
   ]
  },
  {
   "cell_type": "code",
   "execution_count": null,
   "metadata": {},
   "outputs": [],
   "source": []
  },
  {
   "cell_type": "code",
   "execution_count": null,
   "metadata": {},
   "outputs": [],
   "source": [
    "# Exercise 7 - Create a markdown cell introducing arithmetic expression examples\n",
    "# Add a line in this cell with H3 style heading with text like:\n",
    "# Below are a few examples of evaluating arithmetic expressions in Python.\n",
    "# Take a screenshot of the markdown cell and name it as 7-introarithmetic.png"
   ]
  },
  {
   "cell_type": "markdown",
   "metadata": {},
   "source": [
    "### Below are a few examples of evaluating arithmetic expressions in Python.\n",
    "$ x**2+y**3=z$\n",
    "<br>\n",
    "$ x=2**2+2**3$"
   ]
  },
  {
   "cell_type": "code",
   "execution_count": null,
   "metadata": {},
   "outputs": [],
   "source": [
    "### Below are a few examples of evaluating arithmetic expressions in Python.\n",
    "$ x**2+y**3=z$\n",
    "<br>\n",
    "$ x=2**2+2**3$"
   ]
  },
  {
   "cell_type": "code",
   "execution_count": null,
   "metadata": {},
   "outputs": [],
   "source": [
    "# Exercise 8 - Create a code cell to multiply and add numbers\n",
    "# In this code cell evaluate the expression (3*4)+5.\n",
    "# Insert a comment line before the expression to explain the operation e.g.  This a simple arithmetic expression to mutiply then add integers.\n",
    "# Then execute the cell to ensure the expression returns the expected output of 17.\n",
    "# Take a screenshot of the code cell with output and name it as 8-multiplyandaddintegers.png"
   ]
  },
  {
   "cell_type": "code",
   "execution_count": 42,
   "metadata": {},
   "outputs": [
    {
     "data": {
      "text/plain": [
       "17"
      ]
     },
     "execution_count": 42,
     "metadata": {},
     "output_type": "execute_result"
    }
   ],
   "source": [
    "#This a simple arithmetic expression to mutiply then add integers.\n",
    "(3*4)+5"
   ]
  },
  {
   "cell_type": "code",
   "execution_count": null,
   "metadata": {},
   "outputs": [],
   "source": []
  },
  {
   "cell_type": "code",
   "execution_count": null,
   "metadata": {},
   "outputs": [],
   "source": [
    "# Exercise 9 - Create a code cell to convert minutes to hours\n",
    "# In this code cell write an expression that converts 200 minutes into hours.\n",
    "# Insert a comment line before the expression to explain the operation e.g.  This will convert 200 minutes to hours by diving by 60.\n",
    "# Run the cell to evaluate the expression.\n",
    "# Take a screenshot of the code cell with output and name it as 9-hourstominutes.png"
   ]
  },
  {
   "cell_type": "code",
   "execution_count": 15,
   "metadata": {},
   "outputs": [
    {
     "data": {
      "text/plain": [
       "3.3333333333333335"
      ]
     },
     "execution_count": 15,
     "metadata": {},
     "output_type": "execute_result"
    }
   ],
   "source": [
    "# This will convert 200 minutes to hours by diving by 60\n",
    "200/60"
   ]
  },
  {
   "cell_type": "code",
   "execution_count": 34,
   "metadata": {},
   "outputs": [
    {
     "name": "stdout",
     "output_type": "stream",
     "text": [
      "3\n",
      "20\n"
     ]
    }
   ],
   "source": [
    "hours, minutes = divmod(200, 60)\n",
    "print(hours)\n",
    "print(minutes)"
   ]
  },
  {
   "cell_type": "code",
   "execution_count": 36,
   "metadata": {},
   "outputs": [
    {
     "name": "stdout",
     "output_type": "stream",
     "text": [
      "20\n",
      "3\n"
     ]
    }
   ],
   "source": [
    "minutes = 200 % 60\n",
    "hours = 200 // 60\n",
    "print(minutes)\n",
    "print(hours)"
   ]
  },
  {
   "cell_type": "code",
   "execution_count": null,
   "metadata": {},
   "outputs": [],
   "source": []
  },
  {
   "cell_type": "code",
   "execution_count": null,
   "metadata": {},
   "outputs": [],
   "source": [
    "# Exercise 10 - Insert a markdown cell to list Objectives\n",
    "# Below the introduction cell created in Exercise 3, \n",
    "# insert a new markdown cell to list the objectives that this notebook covered (i.e. some of the key takeaways from the course). \n",
    "# In this new cell start with an introductory line titled: Objectives: in bold font. \n",
    "# Then using an unordered list (bullets) indicate 3 to 5 items covered in this notebook, such as List popular languages for Data Science.\n",
    "# Take a screenshot of the markdown cell and name it as 10-objectives.png"
   ]
  },
  {
   "cell_type": "code",
   "execution_count": null,
   "metadata": {},
   "outputs": [],
   "source": []
  },
  {
   "cell_type": "code",
   "execution_count": null,
   "metadata": {},
   "outputs": [],
   "source": [
    "This is assignment notebook about Data Science Tools and Ecosystem"
   ]
  },
  {
   "cell_type": "markdown",
   "metadata": {},
   "source": [
    "**Objectives: **\n",
    "- List of Popular Languages in Data Science\n",
    "- List of Popular Tools in Data Science\n",
    "- List of Popular IDEs in Data Science\n",
    "- Markdown syntax for comments to assist with Data Science coding\n"
   ]
  },
  {
   "cell_type": "code",
   "execution_count": null,
   "metadata": {},
   "outputs": [],
   "source": [
    "**Objectives: **\n",
    "- List of Popular Languages in Data Science\n",
    "- List of Popular Tools in Data Science\n",
    "- List of Popular IDEs in Data Science\n",
    "- Markdown syntax for comments to assist with Data Science coding\n"
   ]
  },
  {
   "cell_type": "code",
   "execution_count": null,
   "metadata": {},
   "outputs": [],
   "source": [
    "# Exercise 11 - Create a markdown cell to indicate the Author's name\n",
    "# In this markdown cell markdown cell include the following text Author in H2 style heading. Include your name as regular text below the word Author.\n",
    "# Take a screenshot of the markdown cell and name it as 11-authordetails.png\n",
    "# Note: Save and download the notebook."
   ]
  },
  {
   "cell_type": "code",
   "execution_count": null,
   "metadata": {},
   "outputs": [],
   "source": [
    "## Author\n",
    "  :  SB"
   ]
  },
  {
   "cell_type": "markdown",
   "metadata": {},
   "source": [
    "## Author :  \n",
    "SB"
   ]
  },
  {
   "cell_type": "code",
   "execution_count": null,
   "metadata": {},
   "outputs": [],
   "source": []
  },
  {
   "cell_type": "code",
   "execution_count": null,
   "metadata": {},
   "outputs": [],
   "source": [
    "# Exercise 12 - Share your notebook through GitHub\n",
    "# Upload your notebook to a public respository on GitHub.\n",
    "# Note : Please keep the GitHub repo link of the notebook handy.\n",
    "# You will need to submit this link as a part of the assignment evaluation.\n",
    "# Hint: Refer to Lab: Working with files in Jupyter Notebooks to download the notebook from SN Labs."
   ]
  },
  {
   "cell_type": "code",
   "execution_count": null,
   "metadata": {},
   "outputs": [],
   "source": []
  },
  {
   "cell_type": "code",
   "execution_count": null,
   "metadata": {},
   "outputs": [],
   "source": [
    "# Exercise 13 -Take a screenshot of the first page of the notebook and save it as 1-notebook.png\n",
    "# Refer to Hands-on Lab: Getting Started with GitHub to upload the downloaded notebook to GitHub.\n"
   ]
  },
  {
   "cell_type": "code",
   "execution_count": null,
   "metadata": {},
   "outputs": [],
   "source": []
  },
  {
   "cell_type": "code",
   "execution_count": null,
   "metadata": {},
   "outputs": [],
   "source": []
  }
 ],
 "metadata": {
  "kernelspec": {
   "display_name": "Python [conda env:base] *",
   "language": "python",
   "name": "conda-base-py"
  },
  "language_info": {
   "codemirror_mode": {
    "name": "ipython",
    "version": 3
   },
   "file_extension": ".py",
   "mimetype": "text/x-python",
   "name": "python",
   "nbconvert_exporter": "python",
   "pygments_lexer": "ipython3",
   "version": "3.12.7"
  },
  "prev_pub_hash": "9e1985db9844176462bd1d5863048c9f3d17404bbc6a648be9084b0c42b29347"
 },
 "nbformat": 4,
 "nbformat_minor": 4
}
